{
 "cells": [
  {
   "cell_type": "markdown",
   "metadata": {},
   "source": [
    "# Chapter 1: Exploratory Data Analysis\n",
    "## Elements of Structured Data\n",
    "## Rectangular Data\n",
    "## Estimates of Location\n",
    "## Estimates of Variablilty\n",
    "## Exploring the Data Distribution\n",
    "## Exploring Binary and Categorical Data\n",
    "## Correlation\n",
    "## Exploring Two or More Variables\n",
    "## Summary\n",
    "\n",
    "\n",
    "\n"
   ]
  },
  {
   "cell_type": "markdown",
   "metadata": {},
   "source": [
    "## Exploring Two or More Variables"
   ]
  },
  {
   "cell_type": "markdown",
   "metadata": {},
   "source": []
  }
 ],
 "metadata": {
  "language_info": {
   "name": "python"
  }
 },
 "nbformat": 4,
 "nbformat_minor": 2
}
