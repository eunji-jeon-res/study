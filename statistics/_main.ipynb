{
 "cells": [
  {
   "cell_type": "markdown",
   "metadata": {},
   "source": [
    "# Chapter 1: Exploratory Data Analysis\n",
    "## 1. Elements of Structured Data\n",
    "## 1. Rectangular Data\n",
    "## 1. Estimates of Location\n",
    "## 1. Estimates of Variablilty\n",
    "## 1. Exploring the Data Distribution\n",
    "## 1. Exploring Binary and Categorical Data\n",
    "## 1. Correlation\n",
    "## 1. Exploring Two or More Variables\n",
    "## 1. Summary"
   ]
  },
  {
   "cell_type": "markdown",
   "metadata": {},
   "source": []
  }
 ],
 "metadata": {
  "language_info": {
   "name": "python"
  }
 },
 "nbformat": 4,
 "nbformat_minor": 2
}
