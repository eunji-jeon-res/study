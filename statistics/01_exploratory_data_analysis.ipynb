{
 "cells": [
  {
   "cell_type": "markdown",
   "metadata": {},
   "source": [
    "# Chapter 1. Exploratory Data Analysis\n",
    "> ### Chapter Goal\n",
    "> 분석에 앞서, 수집한 데이터의 전체적인 경향을 확인한다.\n",
    "> 이때 직관적으로 ~을 확인하기 위해 데이터를 시각화한다.\n",
    "\n",
    "## a. Elements of Structured Data\n",
    "## b. Rectangular Data\n",
    "## c. Estimates of Location\n",
    "## d. Estimates of Variablilty\n",
    "## e. Exploring the Data Distribution\n",
    "## f. Exploring Binary and Categorical Data\n",
    "## g. Correlation\n",
    "### Scatterplots\n",
    "## h. Exploring Two or More Variables\n",
    "### Hexagonal Binning and Contours (Plotting Numeric Versus Numeric Data) \n",
    "### Two Categorical Variables \n",
    "### Categorical and Numeric Data \n",
    "### Visualizing Multiple Variables\n",
    "## i. Summary"
   ]
  },
  {
   "cell_type": "markdown",
   "metadata": {},
   "source": []
  }
 ],
 "metadata": {
  "language_info": {
   "name": "python"
  }
 },
 "nbformat": 4,
 "nbformat_minor": 2
}
