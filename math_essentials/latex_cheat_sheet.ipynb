{
 "cells": [
  {
   "cell_type": "markdown",
   "metadata": {},
   "source": [
    "# LaTeX Cheat Sheet\n",
    "## Elementary Arithmetic\n",
    "|LaTeX|Rendered|\n",
    "|---|---|\n",
    "|+|$+$|\n",
    "|-|$-$|\n",
    "|\\pm|$\\pm$|\n",
    "|\\times|$\\times$|\n",
    "|\\cdot|$\\cdot$|\n",
    "|\\frac{a}{b}|$\\frac{a}{b}$|\n",
    "|/|$a/b$|"
   ]
  },
  {
   "cell_type": "markdown",
   "metadata": {},
   "source": [
    "## Comparison Operators\n",
    "|LaTeX|Rendered|\n",
    "|---|---|\n",
    "|=|$=$|\n",
    "|\\neq|$\\neq$|\n",
    "|\\leq|$\\leq$|\n",
    "|\\geq|$\\geq$|\n",
    "|<|$<$|\n",
    "|>|$>$|"
   ]
  },
  {
   "cell_type": "markdown",
   "metadata": {},
   "source": [
    "## Title\n",
    "|LaTeX|Rendered|\n",
    "|---|---|\n",
    "||$$|\n",
    "||$$|\n",
    "||$$|\n",
    "||$$|\n",
    "||$$|\n",
    "||$$|"
   ]
  },
  {
   "cell_type": "markdown",
   "metadata": {},
   "source": [
    "## Title\n",
    "|LaTeX|Rendered|\n",
    "|---|---|\n",
    "||$$|\n",
    "||$$|\n",
    "||$$|\n",
    "||$$|\n",
    "||$$|\n",
    "||$$|\n",
    "\n",
    "\n",
    "\n",
    "\\lvert x \\rvert: $\\lvert x \\rvert$\n",
    "→ 절댓값 기호 표현.\n",
    "\\left| x \\right|: $\\left| x \\right|$\n",
    "→ 크기 조절이 가능한 절댓값(큰 수식에서도 깔끔하게 표현).\n",
    "\n",
    "\n",
    "지수와 첨자:\n",
    "x^2 → $x^2$\n",
    "x_{i} → $x_{i}$\n",
    "\n",
    "\n",
    "루트(제곱근):\n",
    "\\sqrt{a} → $\\sqrt{a}$\n",
    "\\sqrt[n]{a} → $\\sqrt[n]{a}$\n",
    "\n",
    "\n",
    "그리스 문자:\n",
    "\\alpha → $\\alpha$\n",
    "\\beta → $\\beta$\n",
    "\\pi → $\\pi$\n",
    "\n",
    "\n",
    "시그마(합)와 적분:\n",
    "\\sum_{i=1}^{n} i → $\\sum_{i=1}^{n} i$\n",
    "\\int_{a}^{b} x^2 dx → $\\int_{a}^{b} x^2 dx$\n",
    "\n",
    "\n",
    "괄호 크기 조절:\n",
    "일반 괄호: (a+b) → $(a+b)$\n",
    "크기 조절 괄호: \\left( a+b \\right) → $\\left( a+b \\right)$"
   ]
  },
  {
   "cell_type": "markdown",
   "metadata": {},
   "source": [
    "## Trigonometric Functions\n",
    "|LaTeX|Rendered|\n",
    "|---|---|\n",
    "|\\sin|$\\sin$|\n",
    "|\\cos|$\\cos$|\n",
    "|\\tan|$\\tan$|\n",
    "|\\arcsin|$\\arcsin$|\n",
    "|\\arccos|$\\arccos$|\n",
    "|\\arctan|$\\arctan$|\n",
    "|\\sinh|$\\sinh$|\n",
    "|\\cosh|$\\cosh$|"
   ]
  }
 ],
 "metadata": {
  "language_info": {
   "name": "python"
  }
 },
 "nbformat": 4,
 "nbformat_minor": 2
}
